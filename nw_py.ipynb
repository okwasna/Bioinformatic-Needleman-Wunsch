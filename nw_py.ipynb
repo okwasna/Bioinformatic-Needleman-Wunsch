{
  "nbformat": 4,
  "nbformat_minor": 0,
  "metadata": {
    "colab": {
      "provenance": [],
      "authorship_tag": "ABX9TyPVLhSW4pWYfKOGn6vVGT29",
      "include_colab_link": true
    },
    "kernelspec": {
      "name": "python3",
      "display_name": "Python 3"
    },
    "language_info": {
      "name": "python"
    }
  },
  "cells": [
    {
      "cell_type": "markdown",
      "metadata": {
        "id": "view-in-github",
        "colab_type": "text"
      },
      "source": [
        "<a href=\"https://colab.research.google.com/github/okwasna/Bioinformatic-Needleman-Wunsch/blob/main/nw_py.ipynb\" target=\"_parent\"><img src=\"https://colab.research.google.com/assets/colab-badge.svg\" alt=\"Open In Colab\"/></a>"
      ]
    },
    {
      "cell_type": "code",
      "execution_count": 16,
      "metadata": {
        "id": "q7pD8pks6JWY",
        "colab": {
          "base_uri": "https://localhost:8080/"
        },
        "outputId": "d2e648c9-6956-4852-b7d8-9684d14833f7"
      },
      "outputs": [
        {
          "output_type": "stream",
          "name": "stdout",
          "text": [
            "Requirement already satisfied: biopython in /usr/local/lib/python3.10/dist-packages (1.81)\n",
            "Requirement already satisfied: numpy in /usr/local/lib/python3.10/dist-packages (from biopython) (1.23.5)\n"
          ]
        }
      ],
      "source": [
        "!pip install biopython\n",
        "from Bio import SeqIO\n"
      ]
    },
    {
      "cell_type": "code",
      "source": [
        "def needleman_wunsch(seq1, seq2, match_score, mismatch_penalty, gap_penalty):\n",
        "    m, n = len(seq1), len(seq2)\n",
        "    # Inicjalizacja macierzy skorowania\n",
        "    score_matrix = [[0] * (n+1) for _ in range(m+1)]\n",
        "\n",
        "    # Inicjalizacja macierzy wskazań kierunków (traceback matrix)\n",
        "    traceback_matrix = [[None] * (n+1) for _ in range(m+1)]\n",
        "\n",
        "    # Wypełnienie pierwszego wiersza i kolumny\n",
        "    for i in range(m+1):\n",
        "        score_matrix[i][0] = gap_penalty * i\n",
        "        traceback_matrix[i][0] = 'up'\n",
        "    for j in range(n+1):\n",
        "        score_matrix[0][j] = gap_penalty * j\n",
        "        traceback_matrix[0][j] = 'left'\n",
        "\n",
        "    # Wypełnianie macierzy skorowania i traceback\n",
        "    for i in range(1, m+1):\n",
        "        for j in range(1, n+1):\n",
        "            match = score_matrix[i-1][j-1] + (match_score if seq1[i-1] == seq2[j-1] else mismatch_penalty)\n",
        "            delete = score_matrix[i-1][j] + gap_penalty\n",
        "            insert = score_matrix[i][j-1] + gap_penalty\n",
        "            score_matrix[i][j] = max(match, delete, insert)\n",
        "\n",
        "            if score_matrix[i][j] == match:\n",
        "                traceback_matrix[i][j] = 'diag'\n",
        "            elif score_matrix[i][j] == delete:\n",
        "                traceback_matrix[i][j] = 'up'\n",
        "            else:\n",
        "                traceback_matrix[i][j] = 'left'\n",
        "\n",
        "    # Śledzenie wsteczne\n",
        "    aligned_seq1 = \"\"\n",
        "    aligned_seq2 = \"\"\n",
        "    i, j = m, n\n",
        "    while i > 0 or j > 0:\n",
        "        if traceback_matrix[i][j] == 'diag':\n",
        "            aligned_seq1 = seq1[i-1] + aligned_seq1\n",
        "            aligned_seq2 = seq2[j-1] + aligned_seq2\n",
        "            i -= 1\n",
        "            j -= 1\n",
        "        elif traceback_matrix[i][j] == 'up':\n",
        "            aligned_seq1 = seq1[i-1] + aligned_seq1\n",
        "            aligned_seq2 = \"-\" + aligned_seq2\n",
        "            i -= 1\n",
        "        else:  # 'left'\n",
        "            aligned_seq1 = \"-\" + aligned_seq1\n",
        "            aligned_seq2 = seq2[j-1] + aligned_seq2\n",
        "            j -= 1\n",
        "\n",
        "    return aligned_seq1, aligned_seq2\n"
      ],
      "metadata": {
        "id": "FerGJpTk850z"
      },
      "execution_count": 17,
      "outputs": []
    },
    {
      "cell_type": "code",
      "source": [
        "def read_fasta(file_path):\n",
        "    sequences = [str(record.seq) for record in SeqIO.parse(file_path, \"fasta\")]\n",
        "    return sequences\n"
      ],
      "metadata": {
        "id": "fB5eGaEO9NJJ"
      },
      "execution_count": 18,
      "outputs": []
    },
    {
      "cell_type": "code",
      "source": [
        "def main(fasta_file):\n",
        "    sequences = read_fasta(fasta_file)\n",
        "\n",
        "    if len(sequences) != 2:\n",
        "        return \"Plik FASTA powinien zawierać dokładnie dwie sekwencje.\"\n",
        "\n",
        "    seq1, seq2 = sequences\n",
        "    aligned_seq1, aligned_seq2 = needleman_wunsch(seq1, seq2, match_score=1, mismatch_penalty=-1, gap_penalty=-1)\n",
        "\n",
        "    # Zapisz wyniki do pliku\n",
        "    with open('alignment_result.txt', 'w') as output_file:\n",
        "        output_file.write(f\"{aligned_seq1}\\n\")\n",
        "        output_file.write(f\"{aligned_seq2}\\n\")\n",
        "\n",
        "    return \"Wynik dopasowania został zapisany do alignment_result.txt\"\n",
        "   # print(main(fasta_file))\n",
        "\n"
      ],
      "metadata": {
        "id": "yrWoQjj09RCH"
      },
      "execution_count": 19,
      "outputs": []
    },
    {
      "cell_type": "code",
      "source": [
        "from google.colab import files\n",
        "\n",
        "uploaded = files.upload()\n",
        "fasta_file = next(iter(uploaded))\n"
      ],
      "metadata": {
        "colab": {
          "base_uri": "https://localhost:8080/",
          "height": 73
        },
        "id": "qgb19zIc9UzC",
        "outputId": "371613aa-a878-4ecc-f585-a97b24045455"
      },
      "execution_count": 20,
      "outputs": [
        {
          "output_type": "display_data",
          "data": {
            "text/plain": [
              "<IPython.core.display.HTML object>"
            ],
            "text/html": [
              "\n",
              "     <input type=\"file\" id=\"files-bc4f9b5d-7fa3-400e-bba9-83534bdf6d2f\" name=\"files[]\" multiple disabled\n",
              "        style=\"border:none\" />\n",
              "     <output id=\"result-bc4f9b5d-7fa3-400e-bba9-83534bdf6d2f\">\n",
              "      Upload widget is only available when the cell has been executed in the\n",
              "      current browser session. Please rerun this cell to enable.\n",
              "      </output>\n",
              "      <script>// Copyright 2017 Google LLC\n",
              "//\n",
              "// Licensed under the Apache License, Version 2.0 (the \"License\");\n",
              "// you may not use this file except in compliance with the License.\n",
              "// You may obtain a copy of the License at\n",
              "//\n",
              "//      http://www.apache.org/licenses/LICENSE-2.0\n",
              "//\n",
              "// Unless required by applicable law or agreed to in writing, software\n",
              "// distributed under the License is distributed on an \"AS IS\" BASIS,\n",
              "// WITHOUT WARRANTIES OR CONDITIONS OF ANY KIND, either express or implied.\n",
              "// See the License for the specific language governing permissions and\n",
              "// limitations under the License.\n",
              "\n",
              "/**\n",
              " * @fileoverview Helpers for google.colab Python module.\n",
              " */\n",
              "(function(scope) {\n",
              "function span(text, styleAttributes = {}) {\n",
              "  const element = document.createElement('span');\n",
              "  element.textContent = text;\n",
              "  for (const key of Object.keys(styleAttributes)) {\n",
              "    element.style[key] = styleAttributes[key];\n",
              "  }\n",
              "  return element;\n",
              "}\n",
              "\n",
              "// Max number of bytes which will be uploaded at a time.\n",
              "const MAX_PAYLOAD_SIZE = 100 * 1024;\n",
              "\n",
              "function _uploadFiles(inputId, outputId) {\n",
              "  const steps = uploadFilesStep(inputId, outputId);\n",
              "  const outputElement = document.getElementById(outputId);\n",
              "  // Cache steps on the outputElement to make it available for the next call\n",
              "  // to uploadFilesContinue from Python.\n",
              "  outputElement.steps = steps;\n",
              "\n",
              "  return _uploadFilesContinue(outputId);\n",
              "}\n",
              "\n",
              "// This is roughly an async generator (not supported in the browser yet),\n",
              "// where there are multiple asynchronous steps and the Python side is going\n",
              "// to poll for completion of each step.\n",
              "// This uses a Promise to block the python side on completion of each step,\n",
              "// then passes the result of the previous step as the input to the next step.\n",
              "function _uploadFilesContinue(outputId) {\n",
              "  const outputElement = document.getElementById(outputId);\n",
              "  const steps = outputElement.steps;\n",
              "\n",
              "  const next = steps.next(outputElement.lastPromiseValue);\n",
              "  return Promise.resolve(next.value.promise).then((value) => {\n",
              "    // Cache the last promise value to make it available to the next\n",
              "    // step of the generator.\n",
              "    outputElement.lastPromiseValue = value;\n",
              "    return next.value.response;\n",
              "  });\n",
              "}\n",
              "\n",
              "/**\n",
              " * Generator function which is called between each async step of the upload\n",
              " * process.\n",
              " * @param {string} inputId Element ID of the input file picker element.\n",
              " * @param {string} outputId Element ID of the output display.\n",
              " * @return {!Iterable<!Object>} Iterable of next steps.\n",
              " */\n",
              "function* uploadFilesStep(inputId, outputId) {\n",
              "  const inputElement = document.getElementById(inputId);\n",
              "  inputElement.disabled = false;\n",
              "\n",
              "  const outputElement = document.getElementById(outputId);\n",
              "  outputElement.innerHTML = '';\n",
              "\n",
              "  const pickedPromise = new Promise((resolve) => {\n",
              "    inputElement.addEventListener('change', (e) => {\n",
              "      resolve(e.target.files);\n",
              "    });\n",
              "  });\n",
              "\n",
              "  const cancel = document.createElement('button');\n",
              "  inputElement.parentElement.appendChild(cancel);\n",
              "  cancel.textContent = 'Cancel upload';\n",
              "  const cancelPromise = new Promise((resolve) => {\n",
              "    cancel.onclick = () => {\n",
              "      resolve(null);\n",
              "    };\n",
              "  });\n",
              "\n",
              "  // Wait for the user to pick the files.\n",
              "  const files = yield {\n",
              "    promise: Promise.race([pickedPromise, cancelPromise]),\n",
              "    response: {\n",
              "      action: 'starting',\n",
              "    }\n",
              "  };\n",
              "\n",
              "  cancel.remove();\n",
              "\n",
              "  // Disable the input element since further picks are not allowed.\n",
              "  inputElement.disabled = true;\n",
              "\n",
              "  if (!files) {\n",
              "    return {\n",
              "      response: {\n",
              "        action: 'complete',\n",
              "      }\n",
              "    };\n",
              "  }\n",
              "\n",
              "  for (const file of files) {\n",
              "    const li = document.createElement('li');\n",
              "    li.append(span(file.name, {fontWeight: 'bold'}));\n",
              "    li.append(span(\n",
              "        `(${file.type || 'n/a'}) - ${file.size} bytes, ` +\n",
              "        `last modified: ${\n",
              "            file.lastModifiedDate ? file.lastModifiedDate.toLocaleDateString() :\n",
              "                                    'n/a'} - `));\n",
              "    const percent = span('0% done');\n",
              "    li.appendChild(percent);\n",
              "\n",
              "    outputElement.appendChild(li);\n",
              "\n",
              "    const fileDataPromise = new Promise((resolve) => {\n",
              "      const reader = new FileReader();\n",
              "      reader.onload = (e) => {\n",
              "        resolve(e.target.result);\n",
              "      };\n",
              "      reader.readAsArrayBuffer(file);\n",
              "    });\n",
              "    // Wait for the data to be ready.\n",
              "    let fileData = yield {\n",
              "      promise: fileDataPromise,\n",
              "      response: {\n",
              "        action: 'continue',\n",
              "      }\n",
              "    };\n",
              "\n",
              "    // Use a chunked sending to avoid message size limits. See b/62115660.\n",
              "    let position = 0;\n",
              "    do {\n",
              "      const length = Math.min(fileData.byteLength - position, MAX_PAYLOAD_SIZE);\n",
              "      const chunk = new Uint8Array(fileData, position, length);\n",
              "      position += length;\n",
              "\n",
              "      const base64 = btoa(String.fromCharCode.apply(null, chunk));\n",
              "      yield {\n",
              "        response: {\n",
              "          action: 'append',\n",
              "          file: file.name,\n",
              "          data: base64,\n",
              "        },\n",
              "      };\n",
              "\n",
              "      let percentDone = fileData.byteLength === 0 ?\n",
              "          100 :\n",
              "          Math.round((position / fileData.byteLength) * 100);\n",
              "      percent.textContent = `${percentDone}% done`;\n",
              "\n",
              "    } while (position < fileData.byteLength);\n",
              "  }\n",
              "\n",
              "  // All done.\n",
              "  yield {\n",
              "    response: {\n",
              "      action: 'complete',\n",
              "    }\n",
              "  };\n",
              "}\n",
              "\n",
              "scope.google = scope.google || {};\n",
              "scope.google.colab = scope.google.colab || {};\n",
              "scope.google.colab._files = {\n",
              "  _uploadFiles,\n",
              "  _uploadFilesContinue,\n",
              "};\n",
              "})(self);\n",
              "</script> "
            ]
          },
          "metadata": {}
        },
        {
          "output_type": "stream",
          "name": "stdout",
          "text": [
            "Saving dwiesekwencje.fasta to dwiesekwencje (1).fasta\n"
          ]
        }
      ]
    },
    {
      "cell_type": "code",
      "source": [
        "print(main(fasta_file))\n"
      ],
      "metadata": {
        "colab": {
          "base_uri": "https://localhost:8080/"
        },
        "id": "w--D3AQz-qQx",
        "outputId": "fb15f193-82a6-4ab8-ad20-221a73696e1c"
      },
      "execution_count": 21,
      "outputs": [
        {
          "output_type": "stream",
          "name": "stdout",
          "text": [
            "Wynik dopasowania został zapisany do alignment_result.txt\n"
          ]
        }
      ]
    },
    {
      "cell_type": "code",
      "source": [
        "files.download('alignment_result.txt')\n"
      ],
      "metadata": {
        "colab": {
          "base_uri": "https://localhost:8080/",
          "height": 17
        },
        "id": "lczhmQgr-zwK",
        "outputId": "6759fc18-4fc8-49cd-a2ff-7ac22874f736"
      },
      "execution_count": 22,
      "outputs": [
        {
          "output_type": "display_data",
          "data": {
            "text/plain": [
              "<IPython.core.display.Javascript object>"
            ],
            "application/javascript": [
              "\n",
              "    async function download(id, filename, size) {\n",
              "      if (!google.colab.kernel.accessAllowed) {\n",
              "        return;\n",
              "      }\n",
              "      const div = document.createElement('div');\n",
              "      const label = document.createElement('label');\n",
              "      label.textContent = `Downloading \"${filename}\": `;\n",
              "      div.appendChild(label);\n",
              "      const progress = document.createElement('progress');\n",
              "      progress.max = size;\n",
              "      div.appendChild(progress);\n",
              "      document.body.appendChild(div);\n",
              "\n",
              "      const buffers = [];\n",
              "      let downloaded = 0;\n",
              "\n",
              "      const channel = await google.colab.kernel.comms.open(id);\n",
              "      // Send a message to notify the kernel that we're ready.\n",
              "      channel.send({})\n",
              "\n",
              "      for await (const message of channel.messages) {\n",
              "        // Send a message to notify the kernel that we're ready.\n",
              "        channel.send({})\n",
              "        if (message.buffers) {\n",
              "          for (const buffer of message.buffers) {\n",
              "            buffers.push(buffer);\n",
              "            downloaded += buffer.byteLength;\n",
              "            progress.value = downloaded;\n",
              "          }\n",
              "        }\n",
              "      }\n",
              "      const blob = new Blob(buffers, {type: 'application/binary'});\n",
              "      const a = document.createElement('a');\n",
              "      a.href = window.URL.createObjectURL(blob);\n",
              "      a.download = filename;\n",
              "      div.appendChild(a);\n",
              "      a.click();\n",
              "      div.remove();\n",
              "    }\n",
              "  "
            ]
          },
          "metadata": {}
        },
        {
          "output_type": "display_data",
          "data": {
            "text/plain": [
              "<IPython.core.display.Javascript object>"
            ],
            "application/javascript": [
              "download(\"download_8d9927c7-abda-4449-b116-24c46ef8da48\", \"alignment_result.txt\", 310)"
            ]
          },
          "metadata": {}
        }
      ]
    }
  ]
}